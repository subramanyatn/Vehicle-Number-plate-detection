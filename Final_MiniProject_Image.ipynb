{
  "nbformat": 4,
  "nbformat_minor": 0,
  "metadata": {
    "colab": {
      "name": "Final MiniProject Image.ipynb",
      "provenance": [],
      "collapsed_sections": [],
      "authorship_tag": "ABX9TyOtU7YguODc7RGFYy+IeYRR",
      "include_colab_link": true
    },
    "kernelspec": {
      "display_name": "Python 3",
      "name": "python3"
    },
    "language_info": {
      "name": "python"
    }
  },
  "cells": [
    {
      "cell_type": "markdown",
      "metadata": {
        "id": "view-in-github",
        "colab_type": "text"
      },
      "source": [
        "<a href=\"https://colab.research.google.com/github/subramanyatn/Vehicle-Number-plate-detection/blob/main/Final_MiniProject_Image.ipynb\" target=\"_parent\"><img src=\"https://colab.research.google.com/assets/colab-badge.svg\" alt=\"Open In Colab\"/></a>"
      ]
    },
    {
      "cell_type": "code",
      "metadata": {
        "colab": {
          "base_uri": "https://localhost:8080/"
        },
        "id": "NT5JQNdCE5i5",
        "outputId": "79a2fb8c-e7aa-496b-8caf-324296529380"
      },
      "source": [
        "!pip install opencv-python\n",
        "!pip install opencv-contrib-python\n",
        "!pip install matplotlib\n",
        "!pip install Pillow\n",
        "!pip install pytesseract\n",
        "!sudo apt install tesseract-ocr\n"
      ],
      "execution_count": null,
      "outputs": [
        {
          "output_type": "stream",
          "text": [
            "Requirement already satisfied: opencv-python in /usr/local/lib/python3.7/dist-packages (4.1.2.30)\n",
            "Requirement already satisfied: numpy>=1.14.5 in /usr/local/lib/python3.7/dist-packages (from opencv-python) (1.19.5)\n",
            "Requirement already satisfied: opencv-contrib-python in /usr/local/lib/python3.7/dist-packages (4.1.2.30)\n",
            "Requirement already satisfied: numpy>=1.14.5 in /usr/local/lib/python3.7/dist-packages (from opencv-contrib-python) (1.19.5)\n",
            "Requirement already satisfied: matplotlib in /usr/local/lib/python3.7/dist-packages (3.2.2)\n",
            "Requirement already satisfied: numpy>=1.11 in /usr/local/lib/python3.7/dist-packages (from matplotlib) (1.19.5)\n",
            "Requirement already satisfied: python-dateutil>=2.1 in /usr/local/lib/python3.7/dist-packages (from matplotlib) (2.8.1)\n",
            "Requirement already satisfied: cycler>=0.10 in /usr/local/lib/python3.7/dist-packages (from matplotlib) (0.10.0)\n",
            "Requirement already satisfied: kiwisolver>=1.0.1 in /usr/local/lib/python3.7/dist-packages (from matplotlib) (1.3.1)\n",
            "Requirement already satisfied: pyparsing!=2.0.4,!=2.1.2,!=2.1.6,>=2.0.1 in /usr/local/lib/python3.7/dist-packages (from matplotlib) (2.4.7)\n",
            "Requirement already satisfied: six>=1.5 in /usr/local/lib/python3.7/dist-packages (from python-dateutil>=2.1->matplotlib) (1.15.0)\n",
            "Requirement already satisfied: Pillow in /usr/local/lib/python3.7/dist-packages (7.1.2)\n",
            "Collecting pytesseract\n",
            "  Downloading https://files.pythonhosted.org/packages/a3/c9/d6e8903482bd6fb994c32722831d15842dd8b614f94ad9ca735807252671/pytesseract-0.3.8.tar.gz\n",
            "Requirement already satisfied: Pillow in /usr/local/lib/python3.7/dist-packages (from pytesseract) (7.1.2)\n",
            "Building wheels for collected packages: pytesseract\n",
            "  Building wheel for pytesseract (setup.py) ... \u001b[?25l\u001b[?25hdone\n",
            "  Created wheel for pytesseract: filename=pytesseract-0.3.8-py2.py3-none-any.whl size=14071 sha256=aa219e426113c03e8382cc730e213ccc2c19bccd8e421a5c29c02e69ceb4aa39\n",
            "  Stored in directory: /root/.cache/pip/wheels/a2/66/45/88bf1b2d428817a006944b9730b27d6861b776e05a9e262bd4\n",
            "Successfully built pytesseract\n",
            "Installing collected packages: pytesseract\n",
            "Successfully installed pytesseract-0.3.8\n",
            "Reading package lists... Done\n",
            "Building dependency tree       \n",
            "Reading state information... Done\n",
            "The following additional packages will be installed:\n",
            "  tesseract-ocr-eng tesseract-ocr-osd\n",
            "The following NEW packages will be installed:\n",
            "  tesseract-ocr tesseract-ocr-eng tesseract-ocr-osd\n",
            "0 upgraded, 3 newly installed, 0 to remove and 39 not upgraded.\n",
            "Need to get 4,795 kB of archives.\n",
            "After this operation, 15.8 MB of additional disk space will be used.\n",
            "Get:1 http://archive.ubuntu.com/ubuntu bionic/universe amd64 tesseract-ocr-eng all 4.00~git24-0e00fe6-1.2 [1,588 kB]\n",
            "Get:2 http://archive.ubuntu.com/ubuntu bionic/universe amd64 tesseract-ocr-osd all 4.00~git24-0e00fe6-1.2 [2,989 kB]\n",
            "Get:3 http://archive.ubuntu.com/ubuntu bionic/universe amd64 tesseract-ocr amd64 4.00~git2288-10f4998a-2 [218 kB]\n",
            "Fetched 4,795 kB in 0s (29.6 MB/s)\n",
            "debconf: unable to initialize frontend: Dialog\n",
            "debconf: (No usable dialog-like program is installed, so the dialog based frontend cannot be used. at /usr/share/perl5/Debconf/FrontEnd/Dialog.pm line 76, <> line 3.)\n",
            "debconf: falling back to frontend: Readline\n",
            "debconf: unable to initialize frontend: Readline\n",
            "debconf: (This frontend requires a controlling tty.)\n",
            "debconf: falling back to frontend: Teletype\n",
            "dpkg-preconfigure: unable to re-open stdin: \n",
            "Selecting previously unselected package tesseract-ocr-eng.\n",
            "(Reading database ... 160815 files and directories currently installed.)\n",
            "Preparing to unpack .../tesseract-ocr-eng_4.00~git24-0e00fe6-1.2_all.deb ...\n",
            "Unpacking tesseract-ocr-eng (4.00~git24-0e00fe6-1.2) ...\n",
            "Selecting previously unselected package tesseract-ocr-osd.\n",
            "Preparing to unpack .../tesseract-ocr-osd_4.00~git24-0e00fe6-1.2_all.deb ...\n",
            "Unpacking tesseract-ocr-osd (4.00~git24-0e00fe6-1.2) ...\n",
            "Selecting previously unselected package tesseract-ocr.\n",
            "Preparing to unpack .../tesseract-ocr_4.00~git2288-10f4998a-2_amd64.deb ...\n",
            "Unpacking tesseract-ocr (4.00~git2288-10f4998a-2) ...\n",
            "Setting up tesseract-ocr-osd (4.00~git24-0e00fe6-1.2) ...\n",
            "Setting up tesseract-ocr-eng (4.00~git24-0e00fe6-1.2) ...\n",
            "Setting up tesseract-ocr (4.00~git2288-10f4998a-2) ...\n",
            "Processing triggers for man-db (2.8.3-2ubuntu0.1) ...\n"
          ],
          "name": "stdout"
        }
      ]
    },
    {
      "cell_type": "code",
      "metadata": {
        "id": "-AiCisQ1FMhK"
      },
      "source": [
        "import cv2\n",
        "import random\n",
        "import os\n",
        "import pytesseract\n",
        "import numpy as np\n",
        "import glob\n",
        "import matplotlib.pyplot as plt\n",
        "%matplotlib inline\n",
        "pytesseract.pytesseract.tesseract_cmd = (r'/usr/bin/tesseract')"
      ],
      "execution_count": null,
      "outputs": []
    },
    {
      "cell_type": "code",
      "metadata": {
        "colab": {
          "base_uri": "https://localhost:8080/"
        },
        "id": "jOCSjgGfFRrB",
        "outputId": "74322415-827a-46f5-c49d-4c7ae6fcffe8"
      },
      "source": [
        "from google.colab import drive\n",
        "drive.mount('/content/gdrive')"
      ],
      "execution_count": null,
      "outputs": [
        {
          "output_type": "stream",
          "text": [
            "Drive already mounted at /content/gdrive; to attempt to forcibly remount, call drive.mount(\"/content/gdrive\", force_remount=True).\n"
          ],
          "name": "stdout"
        }
      ]
    },
    {
      "cell_type": "code",
      "metadata": {
        "id": "ytIbQyqOFZ7Q"
      },
      "source": [
        "def plot_images(img1, img2, title1=\"\", title2=\"\"):\n",
        "    fig = plt.figure(figsize=[15,15])\n",
        "    ax1 = fig.add_subplot(121)\n",
        "   \n",
        "    ax1.imshow(img1, cmap=\"gray\")\n",
        "   \n",
        "\n",
        "    ax1.set(xticks=[], yticks=[], title=title1)\n",
        "   \n",
        "\n",
        "\n",
        "    ax2 = fig.add_subplot(122)\n",
        "    ax2.imshow(img2, cmap=\"gray\")\n",
        "    ax2.set(xticks=[], yticks=[], title=title2)"
      ],
      "execution_count": null,
      "outputs": []
    },
    {
      "cell_type": "code",
      "metadata": {
        "colab": {
          "base_uri": "https://localhost:8080/"
        },
        "id": "1sRIjTbgFnfo",
        "outputId": "56ceff0d-c5e7-417b-8b31-f0f70d28d367"
      },
      "source": [
        "ls -l '/content/gdrive/My Drive/Colab Notebooks/Images'"
      ],
      "execution_count": null,
      "outputs": [
        {
          "output_type": "stream",
          "text": [
            "ls: cannot access '/content/gdrive/My Drive/Colab Notebooks/Images': No such file or directory\n"
          ],
          "name": "stdout"
        }
      ]
    },
    {
      "cell_type": "code",
      "metadata": {
        "id": "TLdHH2hPGEVn"
      },
      "source": [
        "images_dir = \"/content/gdrive/My Drive/Colab Notebooks/Images\""
      ],
      "execution_count": null,
      "outputs": []
    },
    {
      "cell_type": "code",
      "metadata": {
        "id": "9EeaXSAUGNCg"
      },
      "source": [
        "image_path = \"{}/{}\".format(images_dir, \"HR26BU0380.png\")"
      ],
      "execution_count": null,
      "outputs": []
    },
    {
      "cell_type": "code",
      "metadata": {
        "id": "LUn4Eg5sGbJJ",
        "colab": {
          "base_uri": "https://localhost:8080/",
          "height": 221
        },
        "outputId": "d13ae20d-d3e2-45ab-86c6-5dda7c36640a"
      },
      "source": [
        "image = cv2.imread(image_path)\n",
        "    \n",
        "rgb = cv2.cvtColor(image, cv2.COLOR_BGR2RGB)\n",
        "gray = cv2.cvtColor(rgb, cv2.COLOR_BGR2GRAY)"
      ],
      "execution_count": null,
      "outputs": [
        {
          "output_type": "error",
          "ename": "error",
          "evalue": "ignored",
          "traceback": [
            "\u001b[0;31m---------------------------------------------------------------------------\u001b[0m",
            "\u001b[0;31merror\u001b[0m                                     Traceback (most recent call last)",
            "\u001b[0;32m<ipython-input-9-1ee24647f3d2>\u001b[0m in \u001b[0;36m<module>\u001b[0;34m()\u001b[0m\n\u001b[1;32m      1\u001b[0m \u001b[0mimage\u001b[0m \u001b[0;34m=\u001b[0m \u001b[0mcv2\u001b[0m\u001b[0;34m.\u001b[0m\u001b[0mimread\u001b[0m\u001b[0;34m(\u001b[0m\u001b[0mimage_path\u001b[0m\u001b[0;34m)\u001b[0m\u001b[0;34m\u001b[0m\u001b[0;34m\u001b[0m\u001b[0m\n\u001b[1;32m      2\u001b[0m \u001b[0;34m\u001b[0m\u001b[0m\n\u001b[0;32m----> 3\u001b[0;31m \u001b[0mrgb\u001b[0m \u001b[0;34m=\u001b[0m \u001b[0mcv2\u001b[0m\u001b[0;34m.\u001b[0m\u001b[0mcvtColor\u001b[0m\u001b[0;34m(\u001b[0m\u001b[0mimage\u001b[0m\u001b[0;34m,\u001b[0m \u001b[0mcv2\u001b[0m\u001b[0;34m.\u001b[0m\u001b[0mCOLOR_BGR2RGB\u001b[0m\u001b[0;34m)\u001b[0m\u001b[0;34m\u001b[0m\u001b[0;34m\u001b[0m\u001b[0m\n\u001b[0m\u001b[1;32m      4\u001b[0m \u001b[0mgray\u001b[0m \u001b[0;34m=\u001b[0m \u001b[0mcv2\u001b[0m\u001b[0;34m.\u001b[0m\u001b[0mcvtColor\u001b[0m\u001b[0;34m(\u001b[0m\u001b[0mrgb\u001b[0m\u001b[0;34m,\u001b[0m \u001b[0mcv2\u001b[0m\u001b[0;34m.\u001b[0m\u001b[0mCOLOR_BGR2GRAY\u001b[0m\u001b[0;34m)\u001b[0m\u001b[0;34m\u001b[0m\u001b[0;34m\u001b[0m\u001b[0m\n",
            "\u001b[0;31merror\u001b[0m: OpenCV(4.1.2) /io/opencv/modules/imgproc/src/color.cpp:182: error: (-215:Assertion failed) !_src.empty() in function 'cvtColor'\n"
          ]
        }
      ]
    },
    {
      "cell_type": "code",
      "metadata": {
        "id": "P7G0Tu3GHB-R"
      },
      "source": [
        "plot_images(image, gray,title1=\"original image\",title2=\"grayscale image\")"
      ],
      "execution_count": null,
      "outputs": []
    },
    {
      "cell_type": "code",
      "metadata": {
        "id": "mObhXk0tHMZn"
      },
      "source": [
        "blur = cv2.bilateralFilter(gray, 11, 90, 90)\n",
        "\n"
      ],
      "execution_count": null,
      "outputs": []
    },
    {
      "cell_type": "code",
      "metadata": {
        "id": "3FzYa-lzHN8d"
      },
      "source": [
        "plot_images(gray, blur, title1=\"grayscale image\", title2=\"blur image\")"
      ],
      "execution_count": null,
      "outputs": []
    },
    {
      "cell_type": "code",
      "metadata": {
        "id": "l6VoimumHXmN"
      },
      "source": [
        "edges = cv2.Canny(blur, 30, 200)"
      ],
      "execution_count": null,
      "outputs": []
    },
    {
      "cell_type": "code",
      "metadata": {
        "id": "XoKLOVDfHauG"
      },
      "source": [
        "plot_images(blur, edges, title1=\"blur image\", title2=\"edge_detection image\")"
      ],
      "execution_count": null,
      "outputs": []
    },
    {
      "cell_type": "code",
      "metadata": {
        "id": "I4OwUzG0HjO0"
      },
      "source": [
        "cnts, new = cv2.findContours(edges.copy(), cv2.RETR_LIST, cv2.CHAIN_APPROX_SIMPLE)\n"
      ],
      "execution_count": null,
      "outputs": []
    },
    {
      "cell_type": "code",
      "metadata": {
        "id": "nqupd3kFHmDE"
      },
      "source": [
        "cnts = sorted(cnts, key = cv2.contourArea, reverse = True)\n",
        "\n",
        "NumberPlateCount = None"
      ],
      "execution_count": null,
      "outputs": []
    },
    {
      "cell_type": "code",
      "metadata": {
        "id": "y7L_D-EbHopU"
      },
      "source": [
        "image_copy = image.copy()"
      ],
      "execution_count": null,
      "outputs": []
    },
    {
      "cell_type": "code",
      "metadata": {
        "id": "biCqcy1lHsQ0"
      },
      "source": [
        "_ = cv2.drawContours(image_copy, cnts, -1, (255,0,255), 2)\n"
      ],
      "execution_count": null,
      "outputs": []
    },
    {
      "cell_type": "code",
      "metadata": {
        "id": "YM05mEUzHvnm"
      },
      "source": [
        "plot_images(image, image_copy,title1=\" image\",title2=\" image\")"
      ],
      "execution_count": null,
      "outputs": []
    },
    {
      "cell_type": "code",
      "metadata": {
        "id": "n7UxJbA4H2ih"
      },
      "source": [
        "cnts = sorted(cnts, key=cv2.contourArea, reverse=True)[:30]"
      ],
      "execution_count": null,
      "outputs": []
    },
    {
      "cell_type": "code",
      "metadata": {
        "id": "CoBn9UEYH65U"
      },
      "source": [
        "image_copy = image.copy()\n",
        "_ = cv2.drawContours(image_copy, cnts, -1, (255,0,255), 2)"
      ],
      "execution_count": null,
      "outputs": []
    },
    {
      "cell_type": "code",
      "metadata": {
        "id": "wpeYe75ZH-Sd"
      },
      "source": [
        "plot_images(image, image_copy,title1=\" image\",title2=\" image\")"
      ],
      "execution_count": null,
      "outputs": []
    },
    {
      "cell_type": "code",
      "metadata": {
        "id": "ClAq4EZmIC9N"
      },
      "source": [
        "plate = None\n",
        "for c in cnts:\n",
        "    perimeter = cv2.arcLength(c, True)\n",
        "    \n",
        "\n",
        "    edges_count = cv2.approxPolyDP(c, 0.02* perimeter, True)\n",
        "    if len(edges_count) == 4:\n",
        "        x,y,w,h = cv2.boundingRect(c)\n",
        "        plate = image[y:y+h, x:x+w]\n",
        "        break\n",
        "\n",
        "cv2.imwrite(\"plate.png\", plate)"
      ],
      "execution_count": null,
      "outputs": []
    },
    {
      "cell_type": "code",
      "metadata": {
        "id": "1wXfgDr7IJy0"
      },
      "source": [
        "plot_images(plate, plate, title1=\" image\", title2=\" image\")"
      ],
      "execution_count": null,
      "outputs": []
    },
    {
      "cell_type": "code",
      "metadata": {
        "id": "j3ilWRPZIPy7"
      },
      "source": [
        "gray = cv2.cvtColor(plate, cv2.COLOR_BGR2GRAY)\n",
        "canny = cv2.Canny(plate, 100, 200)\n",
        "\n",
        "plot_images(gray, canny, title1=\" gray\", title2=\" canny\")"
      ],
      "execution_count": null,
      "outputs": []
    },
    {
      "cell_type": "code",
      "metadata": {
        "id": "xtsNn4GnIVPj"
      },
      "source": [
        "plateText = pytesseract.image_to_string(plate)\n",
        "grayText = pytesseract.image_to_string(gray)"
      ],
      "execution_count": null,
      "outputs": []
    },
    {
      "cell_type": "code",
      "metadata": {
        "id": "otwIvVunIZL0"
      },
      "source": [
        "print(\"plateText:\",plateText)\n",
        "print(\"grayText:\",grayText)\n"
      ],
      "execution_count": null,
      "outputs": []
    },
    {
      "cell_type": "code",
      "metadata": {
        "id": "dQZH0g3qotoK"
      },
      "source": [
        "path_for_license_plates = \"/content/gdrive/My Drive/Colab Notebooks/Images/*.*\"\n",
        "list_license_plates = [] \n",
        "predicted_license_plates = [] \n",
        "plateList = []\n",
        "\n",
        "for path_to_license_plate in glob.glob(path_for_license_plates, recursive = True): \n",
        "  license_plate_file = path_to_license_plate.split(\"/\")[-1] \n",
        "  license_plate, _ = os.path.splitext(license_plate_file) \n",
        "  \n",
        "  \n",
        "  list_license_plates.append(license_plate) \n",
        "\n",
        "  img = cv2.imread(path_to_license_plate)\n",
        "\n",
        "  gray = cv2.cvtColor(img, cv2.COLOR_BGR2GRAY)\n",
        "  blur = cv2.bilateralFilter(gray, 11, 90, 90)\n",
        "  edges = cv2.Canny(blur, 30, 200)\n",
        "  cnts, new = cv2.findContours(edges.copy(), cv2.RETR_LIST, cv2.CHAIN_APPROX_SIMPLE)\n",
        "  cnts = sorted(cnts, key = cv2.contourArea, reverse = True)\n",
        "  NumberPlateCount = None\n",
        "  image_copy = img.copy()\n",
        "  _ = cv2.drawContours(image_copy, cnts, -1, (255,0,255), 2)\n",
        "  cnts = sorted(cnts, key=cv2.contourArea, reverse=True)[:30]\n",
        "  image_copy = img.copy()\n",
        "  _ = cv2.drawContours(image_copy, cnts, -1, (255,0,255), 2)\n",
        "\n",
        "  plate = None\n",
        "  for c in cnts:\n",
        "      perimeter = cv2.arcLength(c, True)\n",
        "      edges_count = cv2.approxPolyDP(c, 0.02 * perimeter, True)\n",
        "      if len(edges_count) == 4:\n",
        "        x,y,w,h = cv2.boundingRect(c)\n",
        "        plate = img[y:y+h, x:x+w]\n",
        "        predicted_result = pytesseract.image_to_string(plate, lang ='eng', config='--psm 10 --oem 3 -c tessedit_char_whitelist=ABCDEFGHIJKLMNOPQRSTUVWXYZ0123456789')\n",
        "        filter_predicted_result = \"\".join(predicted_result.split())\n",
        "        predicted_license_plates.append(filter_predicted_result) \n",
        "        break\n",
        "\n",
        "print(predicted_license_plates)        "
      ],
      "execution_count": null,
      "outputs": []
    }
  ]
}